{
 "cells": [
  {
   "cell_type": "code",
   "execution_count": 12,
   "metadata": {
    "collapsed": false
   },
   "outputs": [
    {
     "name": "stdout",
     "output_type": "stream",
     "text": [
      "The autotime extension is already loaded. To reload it, use:\n",
      "  %reload_ext autotime\n",
      "time: 746 µs\n"
     ]
    }
   ],
   "source": [
    "load_ext autotime"
   ]
  },
  {
   "cell_type": "code",
   "execution_count": 19,
   "metadata": {
    "collapsed": false
   },
   "outputs": [
    {
     "name": "stdout",
     "output_type": "stream",
     "text": [
      "Help on method init_properties in module magellan.core.catalog:\n",
      "\n",
      "init_properties(self, df) method of magellan.core.catalog.Catalog instance\n",
      "\n",
      "time: 1.07 ms\n"
     ]
    }
   ],
   "source": [
    "from magellan import _catalog as cg\n",
    "help(cg.init_properties)"
   ]
  },
  {
   "cell_type": "code",
   "execution_count": 20,
   "metadata": {
    "collapsed": false
   },
   "outputs": [
    {
     "data": {
      "text/plain": [
       "True"
      ]
     },
     "execution_count": 20,
     "metadata": {},
     "output_type": "execute_result"
    },
    {
     "name": "stdout",
     "output_type": "stream",
     "text": [
      "time: 1.43 ms\n"
     ]
    }
   ],
   "source": [
    "cg.del_catalog()"
   ]
  },
  {
   "cell_type": "code",
   "execution_count": 21,
   "metadata": {
    "collapsed": false
   },
   "outputs": [
    {
     "name": "stdout",
     "output_type": "stream",
     "text": [
      "time: 12.8 ms\n"
     ]
    }
   ],
   "source": [
    "import sys\n",
    "sys.path.append('/scratch/pradap/python-work/magellan')\n",
    "import magellan as mg\n",
    "import pandas as pd\n",
    "A = pd.read_csv('../magellan/datasets/table_A.csv')\n",
    "B = pd.read_csv('../magellan/datasets/table_B.csv')\n",
    "\n",
    "ab = mg.AttrEquivalenceBlocker()\n",
    "C = ab.block_tables(A, B, 'zipcode', 'zipcode',\n",
    "                    l_id_attr='ID', r_id_attr='ID',\n",
    "                    l_output_attrs=['name', 'address', 'birth_year'], r_output_attrs=['name', 'address', 'birth_year'],\n",
    "                    l_output_prefix='ltable_', r_output_prefix='rtable_',\n",
    "                    update_catalog=True)\n"
   ]
  },
  {
   "cell_type": "code",
   "execution_count": 22,
   "metadata": {
    "collapsed": false
   },
   "outputs": [
    {
     "data": {
      "text/plain": [
       "{139756712129296: {'fk_ltable': 'ltable_ID',\n",
       "  'fk_rtable': 'rtable_ID',\n",
       "  'key': '_id',\n",
       "  'ltable':    ID              name  birth_year  hourly_wage  \\\n",
       "  0  a1       Kevin Smith        1989         30.0   \n",
       "  1  a2  Michael Franklin        1988         27.5   \n",
       "  2  a3    William Bridge        1986         32.0   \n",
       "  3  a4      Binto George        1987         32.5   \n",
       "  4  a5   Alphonse Kemper        1984         35.0   \n",
       "  \n",
       "                             address  zipcode  \n",
       "  0       607 From St, San Francisco    94107  \n",
       "  1  1652 Stockton St, San Francisco    94122  \n",
       "  2   3131 Webster St, San Francisco    94107  \n",
       "  3     423 Powell St, San Francisco    94122  \n",
       "  4  1702 Post Street, San Francisco    94122  ,\n",
       "  'rtable':    ID            name  birth_year  hourly_wage  \\\n",
       "  0  b1     Mark Levene        1987         29.5   \n",
       "  1  b2     Bill Bridge        1986         32.0   \n",
       "  2  b3   Mike Franklin        1988         27.5   \n",
       "  3  b4     Joseph Kuan        1982         26.0   \n",
       "  4  b5   Alfons Kemper        1984         35.0   \n",
       "  5  b6  Michael Brodie        1987         32.5   \n",
       "  \n",
       "                                address  zipcode  \n",
       "  0       108 Clement St, San Francisco    94107  \n",
       "  1      3131 Webster St, San Francisco    94107  \n",
       "  2     1652 Stockton St, San Francisco    94122  \n",
       "  3       108 South Park, San Francisco    94122  \n",
       "  4  170 Post St, Apt 4,  San Francisco    94122  \n",
       "  5   133 Clement Street, San Francisco    94107  },\n",
       " 139756712195728: {'key': 'ID'},\n",
       " 139756712196176: {'key': 'ID'}}"
      ]
     },
     "execution_count": 22,
     "metadata": {},
     "output_type": "execute_result"
    },
    {
     "name": "stdout",
     "output_type": "stream",
     "text": [
      "time: 12 ms\n"
     ]
    }
   ],
   "source": [
    "cg.get_catalog()"
   ]
  }
 ],
 "metadata": {
  "kernelspec": {
   "display_name": "Python 2",
   "language": "python",
   "name": "python2"
  },
  "language_info": {
   "codemirror_mode": {
    "name": "ipython",
    "version": 2
   },
   "file_extension": ".py",
   "mimetype": "text/x-python",
   "name": "python",
   "nbconvert_exporter": "python",
   "pygments_lexer": "ipython2",
   "version": "2.7.11"
  }
 },
 "nbformat": 4,
 "nbformat_minor": 0
}
