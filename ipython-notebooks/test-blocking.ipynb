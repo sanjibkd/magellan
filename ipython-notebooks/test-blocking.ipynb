{
 "cells": [
  {
   "cell_type": "code",
   "execution_count": 1,
   "metadata": {
    "collapsed": false
   },
   "outputs": [],
   "source": [
    "%load_ext autotime"
   ]
  },
  {
   "cell_type": "code",
   "execution_count": 2,
   "metadata": {
    "collapsed": false
   },
   "outputs": [
    {
     "name": "stdout",
     "output_type": "stream",
     "text": [
      "time: 139 ms\n"
     ]
    }
   ],
   "source": [
    "import sys\n",
    "#sys.path.append('/Users/pradap/Documents/Research/Python-Package/magellan/')\n",
    "sys.path.append('/scratch/pradap/python-work/magellan/')"
   ]
  },
  {
   "cell_type": "code",
   "execution_count": 3,
   "metadata": {
    "collapsed": false
   },
   "outputs": [
    {
     "name": "stdout",
     "output_type": "stream",
     "text": [
      "DEBUG - Log file (/u/p/r/pradap/.picloud/cloud.log) opened\n",
      "time: 691 ms\n"
     ]
    }
   ],
   "source": [
    "import magellan as mg\n",
    "import pandas as pd"
   ]
  },
  {
   "cell_type": "code",
   "execution_count": 4,
   "metadata": {
    "collapsed": false
   },
   "outputs": [
    {
     "data": {
      "text/plain": [
       "True"
      ]
     },
     "execution_count": 4,
     "metadata": {},
     "output_type": "execute_result"
    },
    {
     "name": "stdout",
     "output_type": "stream",
     "text": [
      "time: 9.07 ms\n"
     ]
    }
   ],
   "source": [
    "mg.del_catalog()"
   ]
  },
  {
   "cell_type": "code",
   "execution_count": 5,
   "metadata": {
    "collapsed": false
   },
   "outputs": [
    {
     "name": "stdout",
     "output_type": "stream",
     "text": [
      "time: 451 ms\n"
     ]
    }
   ],
   "source": [
    "A = pd.read_csv('../magellan/datasets/table_A.csv')\n",
    "B = pd.read_csv('../magellan/datasets/table_B.csv')"
   ]
  },
  {
   "cell_type": "code",
   "execution_count": 6,
   "metadata": {
    "collapsed": false
   },
   "outputs": [
    {
     "data": {
      "text/html": [
       "<div>\n",
       "<table border=\"1\" class=\"dataframe\">\n",
       "  <thead>\n",
       "    <tr style=\"text-align: right;\">\n",
       "      <th></th>\n",
       "      <th>ID</th>\n",
       "      <th>name</th>\n",
       "      <th>birth_year</th>\n",
       "      <th>hourly_wage</th>\n",
       "      <th>address</th>\n",
       "      <th>zipcode</th>\n",
       "    </tr>\n",
       "  </thead>\n",
       "  <tbody>\n",
       "    <tr>\n",
       "      <th>0</th>\n",
       "      <td>a1</td>\n",
       "      <td>Kevin Smith</td>\n",
       "      <td>1989</td>\n",
       "      <td>30.0</td>\n",
       "      <td>607 From St, San Francisco</td>\n",
       "      <td>94107</td>\n",
       "    </tr>\n",
       "    <tr>\n",
       "      <th>1</th>\n",
       "      <td>a2</td>\n",
       "      <td>Michael Franklin</td>\n",
       "      <td>1988</td>\n",
       "      <td>27.5</td>\n",
       "      <td>1652 Stockton St, San Francisco</td>\n",
       "      <td>94122</td>\n",
       "    </tr>\n",
       "    <tr>\n",
       "      <th>2</th>\n",
       "      <td>a3</td>\n",
       "      <td>William Bridge</td>\n",
       "      <td>1986</td>\n",
       "      <td>32.0</td>\n",
       "      <td>3131 Webster St, San Francisco</td>\n",
       "      <td>94107</td>\n",
       "    </tr>\n",
       "    <tr>\n",
       "      <th>3</th>\n",
       "      <td>a4</td>\n",
       "      <td>Binto George</td>\n",
       "      <td>1987</td>\n",
       "      <td>32.5</td>\n",
       "      <td>423 Powell St, San Francisco</td>\n",
       "      <td>94122</td>\n",
       "    </tr>\n",
       "    <tr>\n",
       "      <th>4</th>\n",
       "      <td>a5</td>\n",
       "      <td>Alphonse Kemper</td>\n",
       "      <td>1984</td>\n",
       "      <td>35.0</td>\n",
       "      <td>1702 Post Street, San Francisco</td>\n",
       "      <td>94122</td>\n",
       "    </tr>\n",
       "  </tbody>\n",
       "</table>\n",
       "</div>"
      ],
      "text/plain": [
       "   ID              name  birth_year  hourly_wage  \\\n",
       "0  a1       Kevin Smith        1989         30.0   \n",
       "1  a2  Michael Franklin        1988         27.5   \n",
       "2  a3    William Bridge        1986         32.0   \n",
       "3  a4      Binto George        1987         32.5   \n",
       "4  a5   Alphonse Kemper        1984         35.0   \n",
       "\n",
       "                           address  zipcode  \n",
       "0       607 From St, San Francisco    94107  \n",
       "1  1652 Stockton St, San Francisco    94122  \n",
       "2   3131 Webster St, San Francisco    94107  \n",
       "3     423 Powell St, San Francisco    94122  \n",
       "4  1702 Post Street, San Francisco    94122  "
      ]
     },
     "execution_count": 6,
     "metadata": {},
     "output_type": "execute_result"
    },
    {
     "name": "stdout",
     "output_type": "stream",
     "text": [
      "time: 154 ms\n"
     ]
    }
   ],
   "source": [
    "A"
   ]
  },
  {
   "cell_type": "code",
   "execution_count": 7,
   "metadata": {
    "collapsed": false
   },
   "outputs": [
    {
     "name": "stdout",
     "output_type": "stream",
     "text": [
      "time: 153 ms\n"
     ]
    }
   ],
   "source": [
    "mg.set_key(A, 'ID')\n",
    "mg.set_key(B, 'ID')"
   ]
  },
  {
   "cell_type": "code",
   "execution_count": 8,
   "metadata": {
    "collapsed": false
   },
   "outputs": [
    {
     "name": "stdout",
     "output_type": "stream",
     "text": [
      "id: 140370706544336\n",
      "key: ID\n",
      "time: 98.5 ms\n"
     ]
    }
   ],
   "source": [
    "mg.show_properties(A)"
   ]
  },
  {
   "cell_type": "code",
   "execution_count": 9,
   "metadata": {
    "collapsed": false
   },
   "outputs": [
    {
     "name": "stdout",
     "output_type": "stream",
     "text": [
      "time: 97.8 ms\n"
     ]
    }
   ],
   "source": [
    "ab = mg.AttrEquivalenceBlocker()"
   ]
  },
  {
   "cell_type": "code",
   "execution_count": 10,
   "metadata": {
    "collapsed": false
   },
   "outputs": [
    {
     "name": "stdout",
     "output_type": "stream",
     "text": [
      "INFO - Required metadata: ltable key, rtable key\n",
      "INFO - Getting metadata from the catalog\n",
      "INFO - Validating left key: ID\n",
      "INFO - ..... Done\n",
      "INFO - Validating right key: ID\n",
      "INFO - ..... Done\n",
      "time: 97.4 ms\n"
     ]
    }
   ],
   "source": [
    "C = ab.block_tables(A, B, 'zipcode', 'zipcode', l_output_prefix='ltable.', r_output_prefix='rtable.')"
   ]
  },
  {
   "cell_type": "code",
   "execution_count": 11,
   "metadata": {
    "collapsed": false
   },
   "outputs": [
    {
     "name": "stdout",
     "output_type": "stream",
     "text": [
      "id: 140370706545616\n",
      "ltable(obj.id): 140370706544336\n",
      "rtable(obj.id): 140370706450704\n",
      "fk_rtable: rtable.ID\n",
      "fk_ltable: ltable.ID\n",
      "key: _id\n",
      "time: 157 ms\n"
     ]
    }
   ],
   "source": [
    "mg.show_properties(C)"
   ]
  },
  {
   "cell_type": "code",
   "execution_count": 12,
   "metadata": {
    "collapsed": false
   },
   "outputs": [
    {
     "name": "stdout",
     "output_type": "stream",
     "text": [
      "time: 152 ms\n"
     ]
    }
   ],
   "source": [
    "import magellan.core.catalog as cg"
   ]
  },
  {
   "cell_type": "code",
   "execution_count": 13,
   "metadata": {
    "collapsed": false
   },
   "outputs": [
    {
     "name": "stdout",
     "output_type": "stream",
     "text": [
      "time: 115 ms\n"
     ]
    }
   ],
   "source": [
    "cg.validate_metadata_for_table(A, 'ID', 'left', None, False)"
   ]
  },
  {
   "cell_type": "code",
   "execution_count": 14,
   "metadata": {
    "collapsed": false
   },
   "outputs": [
    {
     "data": {
      "text/plain": [
       "False"
      ]
     },
     "execution_count": 14,
     "metadata": {},
     "output_type": "execute_result"
    },
    {
     "name": "stdout",
     "output_type": "stream",
     "text": [
      "time: 140 ms\n"
     ]
    }
   ],
   "source": [
    "cg.is_key_attribute(A, 'zipcode')"
   ]
  },
  {
   "cell_type": "code",
   "execution_count": 15,
   "metadata": {
    "collapsed": false
   },
   "outputs": [
    {
     "name": "stdout",
     "output_type": "stream",
     "text": [
      "id: 140370706545616\n",
      "ltable(obj.id): 140370706544336\n",
      "rtable(obj.id): 140370706450704\n",
      "fk_rtable: rtable.ID\n",
      "fk_ltable: ltable.ID\n",
      "key: _id\n",
      "time: 107 ms\n"
     ]
    }
   ],
   "source": [
    "mg.show_properties_for_id(id(C))"
   ]
  },
  {
   "cell_type": "code",
   "execution_count": 16,
   "metadata": {
    "collapsed": false
   },
   "outputs": [
    {
     "name": "stdout",
     "output_type": "stream",
     "text": [
      "time: 126 ms\n"
     ]
    }
   ],
   "source": [
    "ltable = mg.get_property(C, 'ltable')"
   ]
  },
  {
   "cell_type": "code",
   "execution_count": 17,
   "metadata": {
    "collapsed": false
   },
   "outputs": [
    {
     "name": "stdout",
     "output_type": "stream",
     "text": [
      "time: 103 ms\n"
     ]
    }
   ],
   "source": [
    "l_df = ltable.set_index('ID', inplace=False, drop=False)"
   ]
  },
  {
   "cell_type": "code",
   "execution_count": 18,
   "metadata": {
    "collapsed": false
   },
   "outputs": [
    {
     "name": "stdout",
     "output_type": "stream",
     "text": [
      "INFO - Required metadata: cand.set key, fk ltable, fk rtable, ltable, rtable, ltable key, rtable key\n",
      "INFO - Getting metadata from the catalog\n",
      "INFO - Validating cand.set key: _id\n",
      "INFO - ..... Done\n",
      "INFO - Validating foreign key constraint for left table\n",
      "INFO - ..... Done\n",
      "INFO - Validating foreign key constraint for right table\n",
      "INFO - ..... Done\n",
      "time: 99 ms\n"
     ]
    }
   ],
   "source": [
    "D = ab.block_candset(C, 'birth_year', 'birth_year', verbose=True, show_progress=False)"
   ]
  },
  {
   "cell_type": "code",
   "execution_count": 19,
   "metadata": {
    "collapsed": false
   },
   "outputs": [
    {
     "data": {
      "text/html": [
       "<div>\n",
       "<table border=\"1\" class=\"dataframe\">\n",
       "  <thead>\n",
       "    <tr style=\"text-align: right;\">\n",
       "      <th></th>\n",
       "      <th>_id</th>\n",
       "      <th>ltable.ID</th>\n",
       "      <th>rtable.ID</th>\n",
       "    </tr>\n",
       "  </thead>\n",
       "  <tbody>\n",
       "    <tr>\n",
       "      <th>4</th>\n",
       "      <td>4</td>\n",
       "      <td>a3</td>\n",
       "      <td>b2</td>\n",
       "    </tr>\n",
       "    <tr>\n",
       "      <th>6</th>\n",
       "      <td>6</td>\n",
       "      <td>a2</td>\n",
       "      <td>b3</td>\n",
       "    </tr>\n",
       "    <tr>\n",
       "      <th>14</th>\n",
       "      <td>14</td>\n",
       "      <td>a5</td>\n",
       "      <td>b5</td>\n",
       "    </tr>\n",
       "  </tbody>\n",
       "</table>\n",
       "</div>"
      ],
      "text/plain": [
       "    _id ltable.ID rtable.ID\n",
       "4     4        a3        b2\n",
       "6     6        a2        b3\n",
       "14   14        a5        b5"
      ]
     },
     "execution_count": 19,
     "metadata": {},
     "output_type": "execute_result"
    },
    {
     "name": "stdout",
     "output_type": "stream",
     "text": [
      "time: 145 ms\n"
     ]
    }
   ],
   "source": [
    "D"
   ]
  },
  {
   "cell_type": "code",
   "execution_count": 30,
   "metadata": {
    "collapsed": false
   },
   "outputs": [
    {
     "name": "stdout",
     "output_type": "stream",
     "text": [
      "id: 140370706199056\n",
      "ltable(obj.id): 140370706544336\n",
      "rtable(obj.id): 140370706450704\n",
      "fk_rtable: rtable.ID\n",
      "fk_ltable: ltable.ID\n",
      "key: _id\n",
      "time: 768 µs\n"
     ]
    }
   ],
   "source": [
    "mg.show_properties(D)"
   ]
  },
  {
   "cell_type": "code",
   "execution_count": 31,
   "metadata": {
    "collapsed": false
   },
   "outputs": [
    {
     "name": "stdout",
     "output_type": "stream",
     "text": [
      "id: 140370706199056\n",
      "ltable(obj.id): 140370706544336\n",
      "rtable(obj.id): 140370706450704\n",
      "fk_rtable: rtable.ID\n",
      "fk_ltable: ltable.ID\n",
      "key: _id\n",
      "time: 898 µs\n"
     ]
    }
   ],
   "source": [
    "mg.show_properties_for_id(id(D))"
   ]
  },
  {
   "cell_type": "code",
   "execution_count": 36,
   "metadata": {
    "collapsed": false
   },
   "outputs": [
    {
     "name": "stdout",
     "output_type": "stream",
     "text": [
      "time: 1.02 ms\n"
     ]
    }
   ],
   "source": [
    "a = A.ix[1]"
   ]
  },
  {
   "cell_type": "code",
   "execution_count": 37,
   "metadata": {
    "collapsed": false
   },
   "outputs": [
    {
     "data": {
      "text/plain": [
       "Index([u'ID', u'name', u'birth_year', u'hourly_wage', u'address', u'zipcode'], dtype='object')"
      ]
     },
     "execution_count": 37,
     "metadata": {},
     "output_type": "execute_result"
    },
    {
     "name": "stdout",
     "output_type": "stream",
     "text": [
      "time: 1.95 ms\n"
     ]
    }
   ],
   "source": [
    "a.index"
   ]
  },
  {
   "cell_type": "code",
   "execution_count": 33,
   "metadata": {
    "collapsed": false
   },
   "outputs": [
    {
     "data": {
      "text/plain": [
       "0"
      ]
     },
     "execution_count": 33,
     "metadata": {},
     "output_type": "execute_result"
    },
    {
     "name": "stdout",
     "output_type": "stream",
     "text": [
      "time: 1.52 ms\n"
     ]
    }
   ],
   "source": [
    "list(A.columns).index('ID')"
   ]
  },
  {
   "cell_type": "code",
   "execution_count": 20,
   "metadata": {
    "collapsed": false
   },
   "outputs": [
    {
     "data": {
      "text/plain": [
       "'/scratch/pradap/python-work/magellan/magellan'"
      ]
     },
     "execution_count": 20,
     "metadata": {},
     "output_type": "execute_result"
    },
    {
     "name": "stdout",
     "output_type": "stream",
     "text": [
      "time: 134 ms\n"
     ]
    }
   ],
   "source": [
    "mg.get_install_path()"
   ]
  },
  {
   "cell_type": "code",
   "execution_count": 21,
   "metadata": {
    "collapsed": false
   },
   "outputs": [
    {
     "name": "stdout",
     "output_type": "stream",
     "text": [
      "time: 81.7 ms\n"
     ]
    }
   ],
   "source": [
    "xx = locals().copy()"
   ]
  },
  {
   "cell_type": "code",
   "execution_count": 22,
   "metadata": {
    "collapsed": false
   },
   "outputs": [
    {
     "name": "stdout",
     "output_type": "stream",
     "text": [
      "time: 138 ms\n"
     ]
    }
   ],
   "source": [
    "m = {}\n",
    "for k in xx.iterkeys():\n",
    "    kk = id(xx[k])\n",
    "    m[kk]=kk"
   ]
  },
  {
   "cell_type": "code",
   "execution_count": 23,
   "metadata": {
    "collapsed": false
   },
   "outputs": [
    {
     "data": {
      "text/plain": [
       "{140370706199056: 140370706199056,\n",
       " 140370706310312: 140370706310312,\n",
       " 140370706450704: 140370706450704,\n",
       " 140370706485632: 140370706485632,\n",
       " 140370706486976: 140370706486976,\n",
       " 140370706487456: 140370706487456,\n",
       " 140370706487840: 140370706487840,\n",
       " 140370706487888: 140370706487888,\n",
       " 140370706487936: 140370706487936,\n",
       " 140370706544336: 140370706544336,\n",
       " 140370706545232: 140370706545232,\n",
       " 140370706545616: 140370706545616,\n",
       " 140370706546064: 140370706546064,\n",
       " 140370706673952: 140370706673952,\n",
       " 140370706674000: 140370706674000,\n",
       " 140370706674384: 140370706674384,\n",
       " 140370706674432: 140370706674432,\n",
       " 140370706674528: 140370706674528,\n",
       " 140370706674672: 140370706674672,\n",
       " 140370706674720: 140370706674720,\n",
       " 140370706674864: 140370706674864,\n",
       " 140370706675056: 140370706675056,\n",
       " 140370706675200: 140370706675200,\n",
       " 140370706675680: 140370706675680,\n",
       " 140371170738536: 140371170738536,\n",
       " 140371181959440: 140371181959440,\n",
       " 140371181978800: 140371181978800,\n",
       " 140371182132760: 140371182132760,\n",
       " 140371275979088: 140371275979088,\n",
       " 140371275993528: 140371275993528,\n",
       " 140371276085800: 140371276085800,\n",
       " 140371318277688: 140371318277688,\n",
       " 140371318731552: 140371318731552,\n",
       " 140371369114880: 140371369114880,\n",
       " 140371369142432: 140371369142432,\n",
       " 140371369143296: 140371369143296,\n",
       " 140371369143584: 140371369143584,\n",
       " 140371377383712: 140371377383712,\n",
       " 140371543245088: 140371543245088,\n",
       " 140371543427848: 140371543427848,\n",
       " 140371543428016: 140371543428016,\n",
       " 140371547655184: 140371547655184,\n",
       " 140371547655216: 140371547655216,\n",
       " 140371547737296: 140371547737296}"
      ]
     },
     "execution_count": 23,
     "metadata": {},
     "output_type": "execute_result"
    },
    {
     "name": "stdout",
     "output_type": "stream",
     "text": [
      "time: 167 ms\n"
     ]
    }
   ],
   "source": [
    "m"
   ]
  },
  {
   "cell_type": "code",
   "execution_count": 24,
   "metadata": {
    "collapsed": false
   },
   "outputs": [
    {
     "name": "stdout",
     "output_type": "stream",
     "text": [
      "time: 114 ms\n"
     ]
    }
   ],
   "source": [
    "s1 = set(mg.get_catalog().keys())\n",
    "s2 = set(m.keys())"
   ]
  },
  {
   "cell_type": "code",
   "execution_count": null,
   "metadata": {
    "collapsed": true
   },
   "outputs": [],
   "source": []
  },
  {
   "cell_type": "code",
   "execution_count": 25,
   "metadata": {
    "collapsed": false
   },
   "outputs": [
    {
     "data": {
      "text/plain": [
       "set()"
      ]
     },
     "execution_count": 25,
     "metadata": {},
     "output_type": "execute_result"
    },
    {
     "name": "stdout",
     "output_type": "stream",
     "text": [
      "time: 140 ms\n"
     ]
    }
   ],
   "source": [
    "s1.difference(s2)"
   ]
  },
  {
   "cell_type": "code",
   "execution_count": 26,
   "metadata": {
    "collapsed": false
   },
   "outputs": [
    {
     "data": {
      "text/plain": [
       "{140370706199056, 140370706450704, 140370706544336, 140370706545616}"
      ]
     },
     "execution_count": 26,
     "metadata": {},
     "output_type": "execute_result"
    },
    {
     "name": "stdout",
     "output_type": "stream",
     "text": [
      "time: 622 ms\n"
     ]
    }
   ],
   "source": [
    "s1"
   ]
  },
  {
   "cell_type": "code",
   "execution_count": 27,
   "metadata": {
    "collapsed": false
   },
   "outputs": [
    {
     "name": "stdout",
     "output_type": "stream",
     "text": [
      "time: 59.6 ms\n"
     ]
    }
   ],
   "source": [
    "clg = mg.get_catalog()"
   ]
  },
  {
   "cell_type": "code",
   "execution_count": 28,
   "metadata": {
    "collapsed": false
   },
   "outputs": [
    {
     "data": {
      "text/plain": [
       "140370706544336"
      ]
     },
     "execution_count": 28,
     "metadata": {},
     "output_type": "execute_result"
    },
    {
     "name": "stdout",
     "output_type": "stream",
     "text": [
      "time: 93.5 ms\n"
     ]
    }
   ],
   "source": [
    "id(xx['A'])"
   ]
  },
  {
   "cell_type": "code",
   "execution_count": 29,
   "metadata": {
    "collapsed": false
   },
   "outputs": [
    {
     "name": "stdout",
     "output_type": "stream",
     "text": [
      "id: 140370706544336\n",
      "key: ID\n",
      "----\n",
      "id: 140370706450704\n",
      "key: ID\n",
      "----\n",
      "id: 140370706545616\n",
      "ltable(obj.id): 140370706544336\n",
      "rtable(obj.id): 140370706450704\n",
      "fk_rtable: rtable.ID\n",
      "fk_ltable: ltable.ID\n",
      "key: _id\n",
      "----\n",
      "id: 140370706199056\n",
      "ltable(obj.id): 140370706544336\n",
      "rtable(obj.id): 140370706450704\n",
      "fk_rtable: rtable.ID\n",
      "fk_ltable: ltable.ID\n",
      "key: _id\n",
      "----\n",
      "time: 102 ms\n"
     ]
    }
   ],
   "source": [
    "for x in clg.iterkeys():\n",
    "    mg.show_properties_for_id(x)\n",
    "    print '----'"
   ]
  }
 ],
 "metadata": {
  "kernelspec": {
   "display_name": "Python 2",
   "language": "python",
   "name": "python2"
  },
  "language_info": {
   "codemirror_mode": {
    "name": "ipython",
    "version": 2
   },
   "file_extension": ".py",
   "mimetype": "text/x-python",
   "name": "python",
   "nbconvert_exporter": "python",
   "pygments_lexer": "ipython2",
   "version": "2.7.11"
  }
 },
 "nbformat": 4,
 "nbformat_minor": 0
}
