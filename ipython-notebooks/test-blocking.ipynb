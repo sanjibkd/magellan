{
 "cells": [
  {
   "cell_type": "code",
   "execution_count": 1,
   "metadata": {
    "collapsed": false
   },
   "outputs": [],
   "source": [
    "%load_ext autotime"
   ]
  },
  {
   "cell_type": "code",
   "execution_count": 2,
   "metadata": {
    "collapsed": false
   },
   "outputs": [
    {
     "name": "stdout",
     "output_type": "stream",
     "text": [
      "time: 955 µs\n"
     ]
    }
   ],
   "source": [
    "import sys\n",
    "sys.path.append('/Users/pradap/Documents/Research/Python-Package/magellan/')"
   ]
  },
  {
   "cell_type": "code",
   "execution_count": 3,
   "metadata": {
    "collapsed": false
   },
   "outputs": [
    {
     "name": "stderr",
     "output_type": "stream",
     "text": [
      "DEBUG:Cloud:Log file (/Users/pradap/.picloud/cloud.log) opened\n"
     ]
    },
    {
     "name": "stdout",
     "output_type": "stream",
     "text": [
      "time: 501 ms\n"
     ]
    }
   ],
   "source": [
    "import magellan as mg\n",
    "import pandas as pd"
   ]
  },
  {
   "cell_type": "code",
   "execution_count": null,
   "metadata": {
    "collapsed": true
   },
   "outputs": [],
   "source": []
  },
  {
   "cell_type": "code",
   "execution_count": 4,
   "metadata": {
    "collapsed": false
   },
   "outputs": [
    {
     "data": {
      "text/plain": [
       "True"
      ]
     },
     "execution_count": 4,
     "metadata": {},
     "output_type": "execute_result"
    },
    {
     "name": "stdout",
     "output_type": "stream",
     "text": [
      "time: 6.57 ms\n"
     ]
    }
   ],
   "source": [
    "mg.del_catalog()"
   ]
  },
  {
   "cell_type": "code",
   "execution_count": 5,
   "metadata": {
    "collapsed": false
   },
   "outputs": [
    {
     "name": "stdout",
     "output_type": "stream",
     "text": [
      "time: 7.25 ms\n"
     ]
    }
   ],
   "source": [
    "A = pd.read_csv('../magellan/datasets/table_A.csv')\n",
    "B = pd.read_csv('../magellan/datasets/table_B.csv')"
   ]
  },
  {
   "cell_type": "code",
   "execution_count": 6,
   "metadata": {
    "collapsed": false
   },
   "outputs": [
    {
     "data": {
      "text/html": [
       "<div>\n",
       "<table border=\"1\" class=\"dataframe\">\n",
       "  <thead>\n",
       "    <tr style=\"text-align: right;\">\n",
       "      <th></th>\n",
       "      <th>ID</th>\n",
       "      <th>name</th>\n",
       "      <th>birth_year</th>\n",
       "      <th>hourly_wage</th>\n",
       "      <th>address</th>\n",
       "      <th>zipcode</th>\n",
       "    </tr>\n",
       "  </thead>\n",
       "  <tbody>\n",
       "    <tr>\n",
       "      <th>0</th>\n",
       "      <td>a1</td>\n",
       "      <td>Kevin Smith</td>\n",
       "      <td>1989</td>\n",
       "      <td>30.0</td>\n",
       "      <td>607 From St, San Francisco</td>\n",
       "      <td>94107</td>\n",
       "    </tr>\n",
       "    <tr>\n",
       "      <th>1</th>\n",
       "      <td>a2</td>\n",
       "      <td>Michael Franklin</td>\n",
       "      <td>1988</td>\n",
       "      <td>27.5</td>\n",
       "      <td>1652 Stockton St, San Francisco</td>\n",
       "      <td>94122</td>\n",
       "    </tr>\n",
       "    <tr>\n",
       "      <th>2</th>\n",
       "      <td>a3</td>\n",
       "      <td>William Bridge</td>\n",
       "      <td>1986</td>\n",
       "      <td>32.0</td>\n",
       "      <td>3131 Webster St, San Francisco</td>\n",
       "      <td>94107</td>\n",
       "    </tr>\n",
       "    <tr>\n",
       "      <th>3</th>\n",
       "      <td>a4</td>\n",
       "      <td>Binto George</td>\n",
       "      <td>1987</td>\n",
       "      <td>32.5</td>\n",
       "      <td>423 Powell St, San Francisco</td>\n",
       "      <td>94122</td>\n",
       "    </tr>\n",
       "    <tr>\n",
       "      <th>4</th>\n",
       "      <td>a5</td>\n",
       "      <td>Alphonse Kemper</td>\n",
       "      <td>1984</td>\n",
       "      <td>35.0</td>\n",
       "      <td>1702 Post Street, San Francisco</td>\n",
       "      <td>94122</td>\n",
       "    </tr>\n",
       "  </tbody>\n",
       "</table>\n",
       "</div>"
      ],
      "text/plain": [
       "   ID              name  birth_year  hourly_wage  \\\n",
       "0  a1       Kevin Smith        1989         30.0   \n",
       "1  a2  Michael Franklin        1988         27.5   \n",
       "2  a3    William Bridge        1986         32.0   \n",
       "3  a4      Binto George        1987         32.5   \n",
       "4  a5   Alphonse Kemper        1984         35.0   \n",
       "\n",
       "                           address  zipcode  \n",
       "0       607 From St, San Francisco    94107  \n",
       "1  1652 Stockton St, San Francisco    94122  \n",
       "2   3131 Webster St, San Francisco    94107  \n",
       "3     423 Powell St, San Francisco    94122  \n",
       "4  1702 Post Street, San Francisco    94122  "
      ]
     },
     "execution_count": 6,
     "metadata": {},
     "output_type": "execute_result"
    },
    {
     "name": "stdout",
     "output_type": "stream",
     "text": [
      "time: 19.7 ms\n"
     ]
    }
   ],
   "source": [
    "A"
   ]
  },
  {
   "cell_type": "code",
   "execution_count": 7,
   "metadata": {
    "collapsed": false
   },
   "outputs": [
    {
     "name": "stdout",
     "output_type": "stream",
     "text": [
      "time: 2.55 ms\n"
     ]
    }
   ],
   "source": [
    "mg.set_key(A, 'ID')\n",
    "mg.set_key(B, 'ID')"
   ]
  },
  {
   "cell_type": "code",
   "execution_count": 8,
   "metadata": {
    "collapsed": false
   },
   "outputs": [
    {
     "name": "stdout",
     "output_type": "stream",
     "text": [
      "id: 4396884944\n",
      "key: ID\n",
      "time: 2.05 ms\n"
     ]
    }
   ],
   "source": [
    "mg.show_properties(A)"
   ]
  },
  {
   "cell_type": "code",
   "execution_count": 9,
   "metadata": {
    "collapsed": false
   },
   "outputs": [
    {
     "name": "stdout",
     "output_type": "stream",
     "text": [
      "time: 1.15 ms\n"
     ]
    }
   ],
   "source": [
    "ab = mg.AttrEquivalenceBlocker()"
   ]
  },
  {
   "cell_type": "code",
   "execution_count": 10,
   "metadata": {
    "collapsed": false
   },
   "outputs": [
    {
     "name": "stdout",
     "output_type": "stream",
     "text": [
      "magellan.blocker.attr_equiv_blocker - INFO - Required metadata: ltable key, rtable key\n",
      "magellan.blocker.attr_equiv_blocker - INFO - Getting metadata from the catalog\n",
      "magellan.blocker.attr_equiv_blocker - INFO - Validating left key: ID\n",
      "magellan.blocker.attr_equiv_blocker - INFO - Validating right key: ID\n",
      "time: 14.4 ms\n"
     ]
    }
   ],
   "source": [
    "C = ab.block_tables(A, B, 'zipcode', 'zipcode', ['birth_year', 'name'], ['birth_year', 'name'], \n",
    "                    'ltable.', 'rtable.')"
   ]
  },
  {
   "cell_type": "code",
   "execution_count": 11,
   "metadata": {
    "collapsed": false
   },
   "outputs": [
    {
     "name": "stdout",
     "output_type": "stream",
     "text": [
      "id: 4397343440\n",
      "ltable(obj.id): 4396884944\n",
      "rtable(obj.id): 4396885136\n",
      "fk_rtable: rtable.ID\n",
      "fk_ltable: ltable.ID\n",
      "key: _id\n",
      "time: 1.29 ms\n"
     ]
    }
   ],
   "source": [
    "mg.show_properties(C)"
   ]
  },
  {
   "cell_type": "code",
   "execution_count": 12,
   "metadata": {
    "collapsed": false
   },
   "outputs": [
    {
     "name": "stdout",
     "output_type": "stream",
     "text": [
      "time: 1.55 ms\n"
     ]
    }
   ],
   "source": [
    "import magellan.core.catalog as cg"
   ]
  },
  {
   "cell_type": "code",
   "execution_count": 13,
   "metadata": {
    "collapsed": false
   },
   "outputs": [
    {
     "name": "stdout",
     "output_type": "stream",
     "text": [
      "time: 1.8 ms\n"
     ]
    }
   ],
   "source": [
    "cg.validate_metadata_for_table(A, 'ID', 'left', None, False)"
   ]
  },
  {
   "cell_type": "code",
   "execution_count": 14,
   "metadata": {
    "collapsed": false
   },
   "outputs": [
    {
     "data": {
      "text/plain": [
       "False"
      ]
     },
     "execution_count": 14,
     "metadata": {},
     "output_type": "execute_result"
    },
    {
     "name": "stdout",
     "output_type": "stream",
     "text": [
      "time: 2.64 ms\n"
     ]
    }
   ],
   "source": [
    "cg.is_key_attribute(A, 'zipcode')"
   ]
  },
  {
   "cell_type": "code",
   "execution_count": 15,
   "metadata": {
    "collapsed": false
   },
   "outputs": [
    {
     "name": "stdout",
     "output_type": "stream",
     "text": [
      "id: 4397343440\n",
      "ltable(obj.id): 4396884944\n",
      "rtable(obj.id): 4396885136\n",
      "fk_rtable: rtable.ID\n",
      "fk_ltable: ltable.ID\n",
      "key: _id\n",
      "time: 1.55 ms\n"
     ]
    }
   ],
   "source": [
    "mg.show_properties_for_id(id(C))"
   ]
  },
  {
   "cell_type": "code",
   "execution_count": 16,
   "metadata": {
    "collapsed": false
   },
   "outputs": [
    {
     "name": "stdout",
     "output_type": "stream",
     "text": [
      "time: 1.15 ms\n"
     ]
    }
   ],
   "source": [
    "ltable = mg.get_property(C, 'ltable')"
   ]
  },
  {
   "cell_type": "code",
   "execution_count": 17,
   "metadata": {
    "collapsed": false
   },
   "outputs": [
    {
     "name": "stdout",
     "output_type": "stream",
     "text": [
      "time: 1.98 ms\n"
     ]
    }
   ],
   "source": [
    "l_df = ltable.set_index('ID', inplace=False, drop=False)"
   ]
  },
  {
   "cell_type": "code",
   "execution_count": 22,
   "metadata": {
    "collapsed": false
   },
   "outputs": [
    {
     "name": "stdout",
     "output_type": "stream",
     "text": [
      "time: 8.43 ms\n"
     ]
    }
   ],
   "source": [
    "D = ab.block_candset(C, 'birth_year', 'birth_year', verbose=False, show_progress=False)"
   ]
  },
  {
   "cell_type": "code",
   "execution_count": 23,
   "metadata": {
    "collapsed": false
   },
   "outputs": [
    {
     "data": {
      "text/html": [
       "<div>\n",
       "<table border=\"1\" class=\"dataframe\">\n",
       "  <thead>\n",
       "    <tr style=\"text-align: right;\">\n",
       "      <th></th>\n",
       "      <th>_id</th>\n",
       "      <th>ltable.ID</th>\n",
       "      <th>rtable.ID</th>\n",
       "      <th>ltable.birth_year</th>\n",
       "      <th>ltable.name</th>\n",
       "      <th>rtable.birth_year</th>\n",
       "      <th>rtable.name</th>\n",
       "    </tr>\n",
       "  </thead>\n",
       "  <tbody>\n",
       "    <tr>\n",
       "      <th>4</th>\n",
       "      <td>4</td>\n",
       "      <td>a3</td>\n",
       "      <td>b2</td>\n",
       "      <td>1986</td>\n",
       "      <td>William Bridge</td>\n",
       "      <td>1986</td>\n",
       "      <td>Bill Bridge</td>\n",
       "    </tr>\n",
       "    <tr>\n",
       "      <th>6</th>\n",
       "      <td>6</td>\n",
       "      <td>a2</td>\n",
       "      <td>b3</td>\n",
       "      <td>1988</td>\n",
       "      <td>Michael Franklin</td>\n",
       "      <td>1988</td>\n",
       "      <td>Mike Franklin</td>\n",
       "    </tr>\n",
       "    <tr>\n",
       "      <th>14</th>\n",
       "      <td>14</td>\n",
       "      <td>a5</td>\n",
       "      <td>b5</td>\n",
       "      <td>1984</td>\n",
       "      <td>Alphonse Kemper</td>\n",
       "      <td>1984</td>\n",
       "      <td>Alfons Kemper</td>\n",
       "    </tr>\n",
       "  </tbody>\n",
       "</table>\n",
       "</div>"
      ],
      "text/plain": [
       "    _id ltable.ID rtable.ID  ltable.birth_year       ltable.name  \\\n",
       "4     4        a3        b2               1986    William Bridge   \n",
       "6     6        a2        b3               1988  Michael Franklin   \n",
       "14   14        a5        b5               1984   Alphonse Kemper   \n",
       "\n",
       "    rtable.birth_year    rtable.name  \n",
       "4                1986    Bill Bridge  \n",
       "6                1988  Mike Franklin  \n",
       "14               1984  Alfons Kemper  "
      ]
     },
     "execution_count": 23,
     "metadata": {},
     "output_type": "execute_result"
    },
    {
     "name": "stdout",
     "output_type": "stream",
     "text": [
      "time: 11.2 ms\n"
     ]
    }
   ],
   "source": [
    "D"
   ]
  },
  {
   "cell_type": "code",
   "execution_count": 19,
   "metadata": {
    "collapsed": false
   },
   "outputs": [
    {
     "data": {
      "text/plain": [
       "'/Users/pradap/Documents/Research/Python-Package/magellan/magellan'"
      ]
     },
     "execution_count": 19,
     "metadata": {},
     "output_type": "execute_result"
    },
    {
     "name": "stdout",
     "output_type": "stream",
     "text": [
      "time: 2.65 ms\n"
     ]
    }
   ],
   "source": [
    "mg.get_install_path()"
   ]
  },
  {
   "cell_type": "code",
   "execution_count": 31,
   "metadata": {
    "collapsed": false
   },
   "outputs": [
    {
     "name": "stdout",
     "output_type": "stream",
     "text": [
      "time: 1.1 ms\n"
     ]
    }
   ],
   "source": [
    "xx = locals().copy()"
   ]
  },
  {
   "cell_type": "code",
   "execution_count": 45,
   "metadata": {
    "collapsed": false
   },
   "outputs": [
    {
     "name": "stdout",
     "output_type": "stream",
     "text": [
      "time: 2.62 ms\n"
     ]
    }
   ],
   "source": [
    "m = {}\n",
    "for k in xx.iterkeys():\n",
    "    kk = id(xx[k])\n",
    "    m[kk]=kk"
   ]
  },
  {
   "cell_type": "code",
   "execution_count": 46,
   "metadata": {
    "collapsed": false
   },
   "outputs": [
    {
     "data": {
      "text/plain": [
       "{4296462864: 4296462864,\n",
       " 4296462896: 4296462896,\n",
       " 4296543296: 4296543296,\n",
       " 4297526024: 4297526024,\n",
       " 4297526192: 4297526192,\n",
       " 4297875600: 4297875600,\n",
       " 4348946256: 4348946256,\n",
       " 4348947120: 4348947120,\n",
       " 4348947312: 4348947312,\n",
       " 4350195792: 4350195792,\n",
       " 4350210976: 4350210976,\n",
       " 4350492976: 4350492976,\n",
       " 4358756224: 4358756224,\n",
       " 4358800280: 4358800280,\n",
       " 4358825672: 4358825672,\n",
       " 4359211000: 4359211000,\n",
       " 4359217304: 4359217304,\n",
       " 4360311376: 4360311376,\n",
       " 4360346672: 4360346672,\n",
       " 4360353672: 4360353672,\n",
       " 4360582880: 4360582880,\n",
       " 4360695040: 4360695040,\n",
       " 4360695264: 4360695264,\n",
       " 4370243168: 4370243168,\n",
       " 4370243552: 4370243552,\n",
       " 4396769640: 4396769640,\n",
       " 4396847728: 4396847728,\n",
       " 4396848064: 4396848064,\n",
       " 4396848352: 4396848352,\n",
       " 4396848688: 4396848688,\n",
       " 4396849552: 4396849552,\n",
       " 4396849648: 4396849648,\n",
       " 4396850176: 4396850176,\n",
       " 4396850224: 4396850224,\n",
       " 4396884944: 4396884944,\n",
       " 4396885136: 4396885136,\n",
       " 4396885904: 4396885904,\n",
       " 4396886096: 4396886096,\n",
       " 4396886352: 4396886352,\n",
       " 4397044072: 4397044072,\n",
       " 4397277520: 4397277520,\n",
       " 4397277664: 4397277664,\n",
       " 4397278384: 4397278384,\n",
       " 4397278432: 4397278432,\n",
       " 4397278576: 4397278576,\n",
       " 4397278720: 4397278720,\n",
       " 4397278816: 4397278816,\n",
       " 4397279200: 4397279200,\n",
       " 4397279536: 4397279536,\n",
       " 4397279680: 4397279680,\n",
       " 4397279728: 4397279728,\n",
       " 4397279824: 4397279824,\n",
       " 4397280352: 4397280352,\n",
       " 4397343440: 4397343440,\n",
       " 4397346768: 4397346768,\n",
       " 4397420592: 4397420592,\n",
       " 4397421984: 4397421984,\n",
       " 4397422416: 4397422416,\n",
       " 4397422944: 4397422944,\n",
       " 4397423232: 4397423232,\n",
       " 4398063408: 4398063408}"
      ]
     },
     "execution_count": 46,
     "metadata": {},
     "output_type": "execute_result"
    },
    {
     "name": "stdout",
     "output_type": "stream",
     "text": [
      "time: 7.35 ms\n"
     ]
    }
   ],
   "source": [
    "m"
   ]
  },
  {
   "cell_type": "code",
   "execution_count": 47,
   "metadata": {
    "collapsed": false
   },
   "outputs": [
    {
     "name": "stdout",
     "output_type": "stream",
     "text": [
      "time: 1.48 ms\n"
     ]
    }
   ],
   "source": [
    "s1 = set(mg.get_catalog().keys())\n",
    "s2 = set(m.keys())"
   ]
  },
  {
   "cell_type": "code",
   "execution_count": 50,
   "metadata": {
    "collapsed": false
   },
   "outputs": [
    {
     "data": {
      "text/plain": [
       "{4397346000}"
      ]
     },
     "execution_count": 50,
     "metadata": {},
     "output_type": "execute_result"
    },
    {
     "name": "stdout",
     "output_type": "stream",
     "text": [
      "time: 2.36 ms\n"
     ]
    }
   ],
   "source": [
    "s1.difference(s2)"
   ]
  },
  {
   "cell_type": "code",
   "execution_count": 49,
   "metadata": {
    "collapsed": false
   },
   "outputs": [
    {
     "data": {
      "text/plain": [
       "{4396884944, 4396885136, 4396886352, 4397343440, 4397346000, 4397346768}"
      ]
     },
     "execution_count": 49,
     "metadata": {},
     "output_type": "execute_result"
    },
    {
     "name": "stdout",
     "output_type": "stream",
     "text": [
      "time: 2.14 ms\n"
     ]
    }
   ],
   "source": [
    "s1"
   ]
  },
  {
   "cell_type": "code",
   "execution_count": 40,
   "metadata": {
    "collapsed": false
   },
   "outputs": [
    {
     "name": "stdout",
     "output_type": "stream",
     "text": [
      "time: 1.09 ms\n"
     ]
    }
   ],
   "source": [
    "clg = mg.get_catalog()"
   ]
  },
  {
   "cell_type": "code",
   "execution_count": 44,
   "metadata": {
    "collapsed": false
   },
   "outputs": [
    {
     "data": {
      "text/plain": [
       "4396884944"
      ]
     },
     "execution_count": 44,
     "metadata": {},
     "output_type": "execute_result"
    },
    {
     "name": "stdout",
     "output_type": "stream",
     "text": [
      "time: 2.37 ms\n"
     ]
    }
   ],
   "source": [
    "id(xx['A'])"
   ]
  },
  {
   "cell_type": "code",
   "execution_count": 53,
   "metadata": {
    "collapsed": false
   },
   "outputs": [
    {
     "name": "stdout",
     "output_type": "stream",
     "text": [
      "id: 4396885136\n",
      "key: ID\n",
      "----\n",
      "id: 4397346768\n",
      "ltable(obj.id): 4396884944\n",
      "rtable(obj.id): 4396885136\n",
      "fk_rtable: ltable.ID\n",
      "fk_ltable: ltable.ID\n",
      "key: _id\n",
      "----\n",
      "id: 4397346000\n",
      "ltable(obj.id): 4396884944\n",
      "rtable(obj.id): 4396885136\n",
      "fk_rtable: ltable.ID\n",
      "fk_ltable: ltable.ID\n",
      "key: _id\n",
      "----\n",
      "id: 4396884944\n",
      "key: ID\n",
      "----\n",
      "id: 4396886352\n",
      "ltable(obj.id): 4396884944\n",
      "rtable(obj.id): 4396885136\n",
      "fk_rtable: ltable.ID\n",
      "fk_ltable: ltable.ID\n",
      "key: _id\n",
      "----\n",
      "id: 4397343440\n",
      "ltable(obj.id): 4396884944\n",
      "rtable(obj.id): 4396885136\n",
      "fk_rtable: rtable.ID\n",
      "fk_ltable: ltable.ID\n",
      "key: _id\n",
      "----\n",
      "time: 2.5 ms\n"
     ]
    }
   ],
   "source": [
    "for x in clg.iterkeys():\n",
    "    mg.show_properties_for_id(x)\n",
    "    print '----'"
   ]
  }
 ],
 "metadata": {
  "kernelspec": {
   "display_name": "Python 2",
   "language": "python",
   "name": "python2"
  },
  "language_info": {
   "codemirror_mode": {
    "name": "ipython",
    "version": 2
   },
   "file_extension": ".py",
   "mimetype": "text/x-python",
   "name": "python",
   "nbconvert_exporter": "python",
   "pygments_lexer": "ipython2",
   "version": "2.7.11"
  }
 },
 "nbformat": 4,
 "nbformat_minor": 0
}
